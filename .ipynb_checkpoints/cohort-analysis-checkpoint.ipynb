{
 "cells": [
  {
   "cell_type": "code",
   "execution_count": 92,
   "metadata": {
    "collapsed": false
   },
   "outputs": [],
   "source": [
    "import MySQLdb as mdb\n",
    "from pprint import pprint \n",
    "import pandas as pd\n",
    "import matplotlib.pyplot as plt\n",
    "%matplotlib inline\n",
    "import seaborn as sns"
   ]
  },
  {
   "cell_type": "code",
   "execution_count": 93,
   "metadata": {
    "collapsed": true
   },
   "outputs": [],
   "source": [
    "con = mdb.connect('localhost', 'root', 'password', 'cohortanalysis');"
   ]
  },
  {
   "cell_type": "code",
   "execution_count": 94,
   "metadata": {
    "collapsed": true
   },
   "outputs": [],
   "source": [
    "cur = con.cursor()"
   ]
  },
  {
   "cell_type": "markdown",
   "metadata": {},
   "source": [
    "Perform cohort analysis"
   ]
  },
  {
   "cell_type": "markdown",
   "metadata": {},
   "source": [
    "```SQL\n",
    "SELECT a.cohort, a.months, a.actives as active_users, t.total_users as total_users, a.actives/t.total_users as percent_active\n",
    "FROM \n",
    "(SELECT DATE_FORMAT(u.date, '%Y/%m') as cohort,\n",
    "        PERIOD_DIFF(DATE_FORMAT(e.date, '%Y%m'), DATE_FORMAT(u.date, '%Y%m')) as months, \n",
    "        COUNT(DISTINCT(u.id)) as actives\n",
    "FROM users as u\n",
    "JOIN events as e ON u.id = e.user_id\n",
    "GROUP BY cohort, months\n",
    "HAVING months >= 0) as a\n",
    "JOIN \n",
    "(SELECT DATE_FORMAT(gd_month(u.date), '%Y/%m') as cohort,\n",
    "        COUNT(DISTINCT(u.id)) as total_users\n",
    "FROM users as u\n",
    "GROUP BY cohort) as t\n",
    "ON a.cohort = t.cohort\n",
    "ORDER BY a.cohort, a.months ASC;\n",
    "```"
   ]
  },
  {
   "cell_type": "code",
   "execution_count": 95,
   "metadata": {
    "collapsed": false
   },
   "outputs": [],
   "source": [
    "SQL = '''SELECT a.cohort, a.months, a.actives as active_users, t.total_users as total_users, a.actives/t.total_users as percent_active\n",
    "FROM \n",
    "(SELECT DATE_FORMAT(u.date, '%Y/%m') as cohort,\n",
    "        PERIOD_DIFF(DATE_FORMAT(e.date, '%Y%m'), DATE_FORMAT(u.date, '%Y%m')) as months, \n",
    "        COUNT(DISTINCT(u.id)) as actives\n",
    "FROM users as u\n",
    "JOIN events as e ON u.id = e.user_id\n",
    "GROUP BY cohort, months\n",
    "HAVING months >= 0) as a\n",
    "JOIN \n",
    "(SELECT DATE_FORMAT(gd_month(u.date), '%Y/%m') as cohort,\n",
    "        COUNT(DISTINCT(u.id)) as total_users\n",
    "FROM users as u\n",
    "GROUP BY cohort) as t\n",
    "ON a.cohort = t.cohort\n",
    "ORDER BY a.cohort, a.months ASC;\n",
    "'''"
   ]
  },
  {
   "cell_type": "markdown",
   "metadata": {},
   "source": [
    "Read data into pandas"
   ]
  },
  {
   "cell_type": "code",
   "execution_count": 96,
   "metadata": {
    "collapsed": false
   },
   "outputs": [],
   "source": [
    "df = pd.read_sql(SQL, con=con)"
   ]
  },
  {
   "cell_type": "code",
   "execution_count": 97,
   "metadata": {
    "collapsed": false
   },
   "outputs": [
    {
     "data": {
      "text/html": [
       "<div>\n",
       "<table border=\"1\" class=\"dataframe\">\n",
       "  <thead>\n",
       "    <tr style=\"text-align: right;\">\n",
       "      <th></th>\n",
       "      <th>cohort</th>\n",
       "      <th>months</th>\n",
       "      <th>active_users</th>\n",
       "      <th>total_users</th>\n",
       "      <th>percent_active</th>\n",
       "    </tr>\n",
       "  </thead>\n",
       "  <tbody>\n",
       "    <tr>\n",
       "      <th>0</th>\n",
       "      <td>2013/02</td>\n",
       "      <td>0</td>\n",
       "      <td>19</td>\n",
       "      <td>48</td>\n",
       "      <td>0.3958</td>\n",
       "    </tr>\n",
       "    <tr>\n",
       "      <th>1</th>\n",
       "      <td>2013/02</td>\n",
       "      <td>1</td>\n",
       "      <td>35</td>\n",
       "      <td>48</td>\n",
       "      <td>0.7292</td>\n",
       "    </tr>\n",
       "    <tr>\n",
       "      <th>2</th>\n",
       "      <td>2013/02</td>\n",
       "      <td>2</td>\n",
       "      <td>35</td>\n",
       "      <td>48</td>\n",
       "      <td>0.7292</td>\n",
       "    </tr>\n",
       "    <tr>\n",
       "      <th>3</th>\n",
       "      <td>2013/02</td>\n",
       "      <td>3</td>\n",
       "      <td>33</td>\n",
       "      <td>48</td>\n",
       "      <td>0.6875</td>\n",
       "    </tr>\n",
       "    <tr>\n",
       "      <th>4</th>\n",
       "      <td>2013/02</td>\n",
       "      <td>4</td>\n",
       "      <td>42</td>\n",
       "      <td>48</td>\n",
       "      <td>0.8750</td>\n",
       "    </tr>\n",
       "    <tr>\n",
       "      <th>5</th>\n",
       "      <td>2013/02</td>\n",
       "      <td>5</td>\n",
       "      <td>33</td>\n",
       "      <td>48</td>\n",
       "      <td>0.6875</td>\n",
       "    </tr>\n",
       "    <tr>\n",
       "      <th>6</th>\n",
       "      <td>2013/03</td>\n",
       "      <td>0</td>\n",
       "      <td>113</td>\n",
       "      <td>338</td>\n",
       "      <td>0.3343</td>\n",
       "    </tr>\n",
       "    <tr>\n",
       "      <th>7</th>\n",
       "      <td>2013/03</td>\n",
       "      <td>1</td>\n",
       "      <td>242</td>\n",
       "      <td>338</td>\n",
       "      <td>0.7160</td>\n",
       "    </tr>\n",
       "    <tr>\n",
       "      <th>8</th>\n",
       "      <td>2013/03</td>\n",
       "      <td>2</td>\n",
       "      <td>259</td>\n",
       "      <td>338</td>\n",
       "      <td>0.7663</td>\n",
       "    </tr>\n",
       "    <tr>\n",
       "      <th>9</th>\n",
       "      <td>2013/03</td>\n",
       "      <td>3</td>\n",
       "      <td>308</td>\n",
       "      <td>338</td>\n",
       "      <td>0.9112</td>\n",
       "    </tr>\n",
       "    <tr>\n",
       "      <th>10</th>\n",
       "      <td>2013/03</td>\n",
       "      <td>4</td>\n",
       "      <td>182</td>\n",
       "      <td>338</td>\n",
       "      <td>0.5385</td>\n",
       "    </tr>\n",
       "    <tr>\n",
       "      <th>11</th>\n",
       "      <td>2013/04</td>\n",
       "      <td>0</td>\n",
       "      <td>607</td>\n",
       "      <td>1699</td>\n",
       "      <td>0.3573</td>\n",
       "    </tr>\n",
       "    <tr>\n",
       "      <th>12</th>\n",
       "      <td>2013/04</td>\n",
       "      <td>1</td>\n",
       "      <td>1273</td>\n",
       "      <td>1699</td>\n",
       "      <td>0.7493</td>\n",
       "    </tr>\n",
       "    <tr>\n",
       "      <th>13</th>\n",
       "      <td>2013/04</td>\n",
       "      <td>2</td>\n",
       "      <td>1566</td>\n",
       "      <td>1699</td>\n",
       "      <td>0.9217</td>\n",
       "    </tr>\n",
       "    <tr>\n",
       "      <th>14</th>\n",
       "      <td>2013/04</td>\n",
       "      <td>3</td>\n",
       "      <td>932</td>\n",
       "      <td>1699</td>\n",
       "      <td>0.5486</td>\n",
       "    </tr>\n",
       "    <tr>\n",
       "      <th>15</th>\n",
       "      <td>2013/05</td>\n",
       "      <td>0</td>\n",
       "      <td>2410</td>\n",
       "      <td>7658</td>\n",
       "      <td>0.3147</td>\n",
       "    </tr>\n",
       "    <tr>\n",
       "      <th>16</th>\n",
       "      <td>2013/05</td>\n",
       "      <td>1</td>\n",
       "      <td>7107</td>\n",
       "      <td>7658</td>\n",
       "      <td>0.9280</td>\n",
       "    </tr>\n",
       "    <tr>\n",
       "      <th>17</th>\n",
       "      <td>2013/05</td>\n",
       "      <td>2</td>\n",
       "      <td>4295</td>\n",
       "      <td>7658</td>\n",
       "      <td>0.5609</td>\n",
       "    </tr>\n",
       "    <tr>\n",
       "      <th>18</th>\n",
       "      <td>2013/06</td>\n",
       "      <td>0</td>\n",
       "      <td>16635</td>\n",
       "      <td>24716</td>\n",
       "      <td>0.6730</td>\n",
       "    </tr>\n",
       "    <tr>\n",
       "      <th>19</th>\n",
       "      <td>2013/06</td>\n",
       "      <td>1</td>\n",
       "      <td>13892</td>\n",
       "      <td>24716</td>\n",
       "      <td>0.5621</td>\n",
       "    </tr>\n",
       "    <tr>\n",
       "      <th>20</th>\n",
       "      <td>2013/07</td>\n",
       "      <td>0</td>\n",
       "      <td>6008</td>\n",
       "      <td>20082</td>\n",
       "      <td>0.2992</td>\n",
       "    </tr>\n",
       "  </tbody>\n",
       "</table>\n",
       "</div>"
      ],
      "text/plain": [
       "     cohort  months  active_users  total_users  percent_active\n",
       "0   2013/02       0            19           48          0.3958\n",
       "1   2013/02       1            35           48          0.7292\n",
       "2   2013/02       2            35           48          0.7292\n",
       "3   2013/02       3            33           48          0.6875\n",
       "4   2013/02       4            42           48          0.8750\n",
       "5   2013/02       5            33           48          0.6875\n",
       "6   2013/03       0           113          338          0.3343\n",
       "7   2013/03       1           242          338          0.7160\n",
       "8   2013/03       2           259          338          0.7663\n",
       "9   2013/03       3           308          338          0.9112\n",
       "10  2013/03       4           182          338          0.5385\n",
       "11  2013/04       0           607         1699          0.3573\n",
       "12  2013/04       1          1273         1699          0.7493\n",
       "13  2013/04       2          1566         1699          0.9217\n",
       "14  2013/04       3           932         1699          0.5486\n",
       "15  2013/05       0          2410         7658          0.3147\n",
       "16  2013/05       1          7107         7658          0.9280\n",
       "17  2013/05       2          4295         7658          0.5609\n",
       "18  2013/06       0         16635        24716          0.6730\n",
       "19  2013/06       1         13892        24716          0.5621\n",
       "20  2013/07       0          6008        20082          0.2992"
      ]
     },
     "execution_count": 97,
     "metadata": {},
     "output_type": "execute_result"
    }
   ],
   "source": [
    "df"
   ]
  },
  {
   "cell_type": "code",
   "execution_count": 99,
   "metadata": {
    "collapsed": false
   },
   "outputs": [
    {
     "data": {
      "image/png": "[encoded data removed]",
      "text/plain": [
       "<matplotlib.figure.Figure at 0x10fd422d0>"
      ]
     },
     "metadata": {},
     "output_type": "display_data"
    }
   ],
   "source": [
    "fig = plt.figure(figsize=(14, 6))\n",
    "a = sns.barplot(x='months', y='percent_active', hue='cohort', data=df)\n",
    "a.set_title('Cohort Analysis of User Engagement over 5 month period')\n",
    "a.set_xlabel('Months Since Start of Cohort')\n",
    "a.set_ylabel('% Users Active in Cohort')\n",
    "fig.savefig('Cohort Analysis of User Engagement, Months since Start.png')"
   ]
  },
  {
   "cell_type": "markdown",
   "metadata": {},
   "source": [
    "**Observations**\n",
    "<br><br>\n",
    "This plot let's us easily compare the relative course activity between cohort, but it does not allow us to easily see how the cohorts perform in terms of absolute time (actual months), only relative time (compared with when the cohort started).\n",
    "<br><br>\n",
    "**Notes**\n",
    "<br>\n",
    "As we can see, most of the cohorts increase in activity during the second month of their lifecycle, with the exception of the 2013/06 (June) cohort, which experiences a dip in activity. The May cohort experiences 2 months of growth before dropping off, where as the April cohort experiences 3 months of growth before dropping. Why are these cohorts dropping off?\n",
    "<br><br>Let's take a look at the absolute bar chart to see what's happening there. \n"
   ]
  },
  {
   "cell_type": "code",
   "execution_count": 77,
   "metadata": {
    "collapsed": false
   },
   "outputs": [],
   "source": [
    "SQL = '''SELECT \n",
    "        a.cohort, \n",
    "        a.months + RIGHT(a.cohort, 1) - 2 as months_from,\n",
    "        a.months, a.actives as active_users, t.total_users as total_users, a.actives/t.total_users as percent_active\n",
    "FROM \n",
    "(SELECT DATE_FORMAT(u.date, '%Y/%m') as cohort,\n",
    "        PERIOD_DIFF(DATE_FORMAT(e.date, '%Y%m'), DATE_FORMAT(u.date, '%Y%m')) as months, \n",
    "        COUNT(DISTINCT(u.id)) as actives\n",
    "FROM users as u\n",
    "JOIN events as e ON u.id = e.user_id\n",
    "GROUP BY cohort, months\n",
    "HAVING months >= 0) as a\n",
    "JOIN \n",
    "(SELECT DATE_FORMAT(gd_month(u.date), '%Y/%m') as cohort,\n",
    "        COUNT(DISTINCT(u.id)) as total_users\n",
    "FROM users as u\n",
    "GROUP BY cohort) as t\n",
    "ON a.cohort = t.cohort\n",
    "ORDER BY a.cohort, a.months ASC;\n",
    "'''"
   ]
  },
  {
   "cell_type": "code",
   "execution_count": 78,
   "metadata": {
    "collapsed": false
   },
   "outputs": [],
   "source": [
    "df = pd.read_sql(SQL, con=con)"
   ]
  },
  {
   "cell_type": "code",
   "execution_count": 85,
   "metadata": {
    "collapsed": false
   },
   "outputs": [],
   "source": [
    "df['months_from'] = df['months_from'].astype(int)"
   ]
  },
  {
   "cell_type": "code",
   "execution_count": 90,
   "metadata": {
    "collapsed": false
   },
   "outputs": [],
   "source": [
    "def get_month(x):\n",
    "    lst = ['February','March','April','May','June','July']\n",
    "    return lst[x]\n",
    "\n",
    "df['months_from_feb'] = df['months_from'].apply(get_month)"
   ]
  },
  {
   "cell_type": "code",
   "execution_count": 91,
   "metadata": {
    "collapsed": false
   },
   "outputs": [
    {
     "data": {
      "text/plain": [
       "<matplotlib.text.Text at 0x1100b2850>"
      ]
     },
     "execution_count": 91,
     "metadata": {},
     "output_type": "execute_result"
    },
    {
     "data": {
      "image/png": "[encoded data removed]",
      "text/plain": [
       "<matplotlib.figure.Figure at 0x110346250>"
      ]
     },
     "metadata": {},
     "output_type": "display_data"
    }
   ],
   "source": [
    "fig = plt.figure(figsize=(14, 6))\n",
    "a = sns.barplot(x='months_from_feb', y='percent_active', hue='cohort', data=df)\n",
    "a.set_title('Cohort Analysis of User Engagement over 5 month period')\n",
    "a.set_xlabel('Month')\n",
    "a.set_ylabel('% Users Active in Cohort')"
   ]
  },
  {
   "cell_type": "markdown",
   "metadata": {},
   "source": [
    "**Observations**\n",
    "<br>\n",
    "In this plot it is easier to view the activity of each cohort relative to the month that cohort was active. \n",
    "<br><br>\n",
    "Here it is easy to see that in June, all cohorts have more active users, but in July, all cohorts experience a drop in active users. So the problem isn't something about the length of time of the cohorts, but instead the problem is due to either a change in the product in June, or circumstances external to the product that occurred in June. \n"
   ]
  },
  {
   "cell_type": "code",
   "execution_count": null,
   "metadata": {
    "collapsed": true
   },
   "outputs": [],
   "source": []
  }
 ],
 "metadata": {
  "kernelspec": {
   "display_name": "Python 2",
   "language": "python",
   "name": "python2"
  },
  "language_info": {
   "codemirror_mode": {
    "name": "ipython",
    "version": 2
   },
   "file_extension": ".py",
   "mimetype": "text/x-python",
   "name": "python",
   "nbconvert_exporter": "python",
   "pygments_lexer": "ipython2",
   "version": "2.7.13"
  }
 },
 "nbformat": 4,
 "nbformat_minor": 2
}
